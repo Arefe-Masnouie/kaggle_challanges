{
 "cells": [
  {
   "cell_type": "code",
   "execution_count": 1,
   "id": "a87476fc",
   "metadata": {},
   "outputs": [],
   "source": [
    "import numpy as np\n",
    "import pandas as pd\n",
    "import matplotlib.pyplot as plt\n",
    "import seaborn as sns\n"
   ]
  },
  {
   "cell_type": "code",
   "execution_count": 8,
   "id": "9bbaa376",
   "metadata": {},
   "outputs": [
    {
     "data": {
      "application/vnd.microsoft.datawrangler.viewer.v0+json": {
       "columns": [
        {
         "name": "index",
         "rawType": "int64",
         "type": "integer"
        },
        {
         "name": "PassengerId",
         "rawType": "object",
         "type": "string"
        },
        {
         "name": "HomePlanet",
         "rawType": "object",
         "type": "string"
        },
        {
         "name": "CryoSleep",
         "rawType": "object",
         "type": "unknown"
        },
        {
         "name": "Cabin",
         "rawType": "object",
         "type": "string"
        },
        {
         "name": "Destination",
         "rawType": "object",
         "type": "string"
        },
        {
         "name": "Age",
         "rawType": "float64",
         "type": "float"
        },
        {
         "name": "VIP",
         "rawType": "object",
         "type": "unknown"
        },
        {
         "name": "RoomService",
         "rawType": "float64",
         "type": "float"
        },
        {
         "name": "FoodCourt",
         "rawType": "float64",
         "type": "float"
        },
        {
         "name": "ShoppingMall",
         "rawType": "float64",
         "type": "float"
        },
        {
         "name": "Spa",
         "rawType": "float64",
         "type": "float"
        },
        {
         "name": "VRDeck",
         "rawType": "float64",
         "type": "float"
        },
        {
         "name": "Name",
         "rawType": "object",
         "type": "string"
        },
        {
         "name": "Transported",
         "rawType": "bool",
         "type": "boolean"
        }
       ],
       "ref": "f371e454-d433-45e0-a4a7-1550c20aca9c",
       "rows": [
        [
         "0",
         "0001_01",
         "Europa",
         "False",
         "B/0/P",
         "TRAPPIST-1e",
         "39.0",
         "False",
         "0.0",
         "0.0",
         "0.0",
         "0.0",
         "0.0",
         "Maham Ofracculy",
         "False"
        ],
        [
         "1",
         "0002_01",
         "Earth",
         "False",
         "F/0/S",
         "TRAPPIST-1e",
         "24.0",
         "False",
         "109.0",
         "9.0",
         "25.0",
         "549.0",
         "44.0",
         "Juanna Vines",
         "True"
        ],
        [
         "2",
         "0003_01",
         "Europa",
         "False",
         "A/0/S",
         "TRAPPIST-1e",
         "58.0",
         "True",
         "43.0",
         "3576.0",
         "0.0",
         "6715.0",
         "49.0",
         "Altark Susent",
         "False"
        ],
        [
         "3",
         "0003_02",
         "Europa",
         "False",
         "A/0/S",
         "TRAPPIST-1e",
         "33.0",
         "False",
         "0.0",
         "1283.0",
         "371.0",
         "3329.0",
         "193.0",
         "Solam Susent",
         "False"
        ],
        [
         "4",
         "0004_01",
         "Earth",
         "False",
         "F/1/S",
         "TRAPPIST-1e",
         "16.0",
         "False",
         "303.0",
         "70.0",
         "151.0",
         "565.0",
         "2.0",
         "Willy Santantines",
         "True"
        ]
       ],
       "shape": {
        "columns": 14,
        "rows": 5
       }
      },
      "text/html": [
       "<div>\n",
       "<style scoped>\n",
       "    .dataframe tbody tr th:only-of-type {\n",
       "        vertical-align: middle;\n",
       "    }\n",
       "\n",
       "    .dataframe tbody tr th {\n",
       "        vertical-align: top;\n",
       "    }\n",
       "\n",
       "    .dataframe thead th {\n",
       "        text-align: right;\n",
       "    }\n",
       "</style>\n",
       "<table border=\"1\" class=\"dataframe\">\n",
       "  <thead>\n",
       "    <tr style=\"text-align: right;\">\n",
       "      <th></th>\n",
       "      <th>PassengerId</th>\n",
       "      <th>HomePlanet</th>\n",
       "      <th>CryoSleep</th>\n",
       "      <th>Cabin</th>\n",
       "      <th>Destination</th>\n",
       "      <th>Age</th>\n",
       "      <th>VIP</th>\n",
       "      <th>RoomService</th>\n",
       "      <th>FoodCourt</th>\n",
       "      <th>ShoppingMall</th>\n",
       "      <th>Spa</th>\n",
       "      <th>VRDeck</th>\n",
       "      <th>Name</th>\n",
       "      <th>Transported</th>\n",
       "    </tr>\n",
       "  </thead>\n",
       "  <tbody>\n",
       "    <tr>\n",
       "      <th>0</th>\n",
       "      <td>0001_01</td>\n",
       "      <td>Europa</td>\n",
       "      <td>False</td>\n",
       "      <td>B/0/P</td>\n",
       "      <td>TRAPPIST-1e</td>\n",
       "      <td>39.0</td>\n",
       "      <td>False</td>\n",
       "      <td>0.0</td>\n",
       "      <td>0.0</td>\n",
       "      <td>0.0</td>\n",
       "      <td>0.0</td>\n",
       "      <td>0.0</td>\n",
       "      <td>Maham Ofracculy</td>\n",
       "      <td>False</td>\n",
       "    </tr>\n",
       "    <tr>\n",
       "      <th>1</th>\n",
       "      <td>0002_01</td>\n",
       "      <td>Earth</td>\n",
       "      <td>False</td>\n",
       "      <td>F/0/S</td>\n",
       "      <td>TRAPPIST-1e</td>\n",
       "      <td>24.0</td>\n",
       "      <td>False</td>\n",
       "      <td>109.0</td>\n",
       "      <td>9.0</td>\n",
       "      <td>25.0</td>\n",
       "      <td>549.0</td>\n",
       "      <td>44.0</td>\n",
       "      <td>Juanna Vines</td>\n",
       "      <td>True</td>\n",
       "    </tr>\n",
       "    <tr>\n",
       "      <th>2</th>\n",
       "      <td>0003_01</td>\n",
       "      <td>Europa</td>\n",
       "      <td>False</td>\n",
       "      <td>A/0/S</td>\n",
       "      <td>TRAPPIST-1e</td>\n",
       "      <td>58.0</td>\n",
       "      <td>True</td>\n",
       "      <td>43.0</td>\n",
       "      <td>3576.0</td>\n",
       "      <td>0.0</td>\n",
       "      <td>6715.0</td>\n",
       "      <td>49.0</td>\n",
       "      <td>Altark Susent</td>\n",
       "      <td>False</td>\n",
       "    </tr>\n",
       "    <tr>\n",
       "      <th>3</th>\n",
       "      <td>0003_02</td>\n",
       "      <td>Europa</td>\n",
       "      <td>False</td>\n",
       "      <td>A/0/S</td>\n",
       "      <td>TRAPPIST-1e</td>\n",
       "      <td>33.0</td>\n",
       "      <td>False</td>\n",
       "      <td>0.0</td>\n",
       "      <td>1283.0</td>\n",
       "      <td>371.0</td>\n",
       "      <td>3329.0</td>\n",
       "      <td>193.0</td>\n",
       "      <td>Solam Susent</td>\n",
       "      <td>False</td>\n",
       "    </tr>\n",
       "    <tr>\n",
       "      <th>4</th>\n",
       "      <td>0004_01</td>\n",
       "      <td>Earth</td>\n",
       "      <td>False</td>\n",
       "      <td>F/1/S</td>\n",
       "      <td>TRAPPIST-1e</td>\n",
       "      <td>16.0</td>\n",
       "      <td>False</td>\n",
       "      <td>303.0</td>\n",
       "      <td>70.0</td>\n",
       "      <td>151.0</td>\n",
       "      <td>565.0</td>\n",
       "      <td>2.0</td>\n",
       "      <td>Willy Santantines</td>\n",
       "      <td>True</td>\n",
       "    </tr>\n",
       "  </tbody>\n",
       "</table>\n",
       "</div>"
      ],
      "text/plain": [
       "  PassengerId HomePlanet CryoSleep  Cabin  Destination   Age    VIP  \\\n",
       "0     0001_01     Europa     False  B/0/P  TRAPPIST-1e  39.0  False   \n",
       "1     0002_01      Earth     False  F/0/S  TRAPPIST-1e  24.0  False   \n",
       "2     0003_01     Europa     False  A/0/S  TRAPPIST-1e  58.0   True   \n",
       "3     0003_02     Europa     False  A/0/S  TRAPPIST-1e  33.0  False   \n",
       "4     0004_01      Earth     False  F/1/S  TRAPPIST-1e  16.0  False   \n",
       "\n",
       "   RoomService  FoodCourt  ShoppingMall     Spa  VRDeck               Name  \\\n",
       "0          0.0        0.0           0.0     0.0     0.0    Maham Ofracculy   \n",
       "1        109.0        9.0          25.0   549.0    44.0       Juanna Vines   \n",
       "2         43.0     3576.0           0.0  6715.0    49.0      Altark Susent   \n",
       "3          0.0     1283.0         371.0  3329.0   193.0       Solam Susent   \n",
       "4        303.0       70.0         151.0   565.0     2.0  Willy Santantines   \n",
       "\n",
       "   Transported  \n",
       "0        False  \n",
       "1         True  \n",
       "2        False  \n",
       "3        False  \n",
       "4         True  "
      ]
     },
     "execution_count": 8,
     "metadata": {},
     "output_type": "execute_result"
    }
   ],
   "source": [
    "df = pd.read_csv('../datasets/train.csv')\n",
    "df.head()"
   ]
  },
  {
   "cell_type": "code",
   "execution_count": 3,
   "id": "a998288b",
   "metadata": {},
   "outputs": [
    {
     "data": {
      "application/vnd.microsoft.datawrangler.viewer.v0+json": {
       "columns": [
        {
         "name": "index",
         "rawType": "object",
         "type": "string"
        },
        {
         "name": "Age",
         "rawType": "float64",
         "type": "float"
        },
        {
         "name": "RoomService",
         "rawType": "float64",
         "type": "float"
        },
        {
         "name": "FoodCourt",
         "rawType": "float64",
         "type": "float"
        },
        {
         "name": "ShoppingMall",
         "rawType": "float64",
         "type": "float"
        },
        {
         "name": "Spa",
         "rawType": "float64",
         "type": "float"
        },
        {
         "name": "VRDeck",
         "rawType": "float64",
         "type": "float"
        }
       ],
       "ref": "358b0e62-17bc-4d0f-9ed8-7bddba44ccbe",
       "rows": [
        [
         "count",
         "8514.0",
         "8512.0",
         "8510.0",
         "8485.0",
         "8510.0",
         "8505.0"
        ],
        [
         "mean",
         "28.82793046746535",
         "224.687617481203",
         "458.07720329024676",
         "173.72916912197996",
         "311.1387779083431",
         "304.8547912992357"
        ],
        [
         "std",
         "14.489021423908726",
         "666.7176629280303",
         "1611.4892403551144",
         "604.6964584708251",
         "1136.705534834416",
         "1145.7171888057144"
        ],
        [
         "min",
         "0.0",
         "0.0",
         "0.0",
         "0.0",
         "0.0",
         "0.0"
        ],
        [
         "25%",
         "19.0",
         "0.0",
         "0.0",
         "0.0",
         "0.0",
         "0.0"
        ],
        [
         "50%",
         "27.0",
         "0.0",
         "0.0",
         "0.0",
         "0.0",
         "0.0"
        ],
        [
         "75%",
         "38.0",
         "47.0",
         "76.0",
         "27.0",
         "59.0",
         "46.0"
        ],
        [
         "max",
         "79.0",
         "14327.0",
         "29813.0",
         "23492.0",
         "22408.0",
         "24133.0"
        ]
       ],
       "shape": {
        "columns": 6,
        "rows": 8
       }
      },
      "text/html": [
       "<div>\n",
       "<style scoped>\n",
       "    .dataframe tbody tr th:only-of-type {\n",
       "        vertical-align: middle;\n",
       "    }\n",
       "\n",
       "    .dataframe tbody tr th {\n",
       "        vertical-align: top;\n",
       "    }\n",
       "\n",
       "    .dataframe thead th {\n",
       "        text-align: right;\n",
       "    }\n",
       "</style>\n",
       "<table border=\"1\" class=\"dataframe\">\n",
       "  <thead>\n",
       "    <tr style=\"text-align: right;\">\n",
       "      <th></th>\n",
       "      <th>Age</th>\n",
       "      <th>RoomService</th>\n",
       "      <th>FoodCourt</th>\n",
       "      <th>ShoppingMall</th>\n",
       "      <th>Spa</th>\n",
       "      <th>VRDeck</th>\n",
       "    </tr>\n",
       "  </thead>\n",
       "  <tbody>\n",
       "    <tr>\n",
       "      <th>count</th>\n",
       "      <td>8514.000000</td>\n",
       "      <td>8512.000000</td>\n",
       "      <td>8510.000000</td>\n",
       "      <td>8485.000000</td>\n",
       "      <td>8510.000000</td>\n",
       "      <td>8505.000000</td>\n",
       "    </tr>\n",
       "    <tr>\n",
       "      <th>mean</th>\n",
       "      <td>28.827930</td>\n",
       "      <td>224.687617</td>\n",
       "      <td>458.077203</td>\n",
       "      <td>173.729169</td>\n",
       "      <td>311.138778</td>\n",
       "      <td>304.854791</td>\n",
       "    </tr>\n",
       "    <tr>\n",
       "      <th>std</th>\n",
       "      <td>14.489021</td>\n",
       "      <td>666.717663</td>\n",
       "      <td>1611.489240</td>\n",
       "      <td>604.696458</td>\n",
       "      <td>1136.705535</td>\n",
       "      <td>1145.717189</td>\n",
       "    </tr>\n",
       "    <tr>\n",
       "      <th>min</th>\n",
       "      <td>0.000000</td>\n",
       "      <td>0.000000</td>\n",
       "      <td>0.000000</td>\n",
       "      <td>0.000000</td>\n",
       "      <td>0.000000</td>\n",
       "      <td>0.000000</td>\n",
       "    </tr>\n",
       "    <tr>\n",
       "      <th>25%</th>\n",
       "      <td>19.000000</td>\n",
       "      <td>0.000000</td>\n",
       "      <td>0.000000</td>\n",
       "      <td>0.000000</td>\n",
       "      <td>0.000000</td>\n",
       "      <td>0.000000</td>\n",
       "    </tr>\n",
       "    <tr>\n",
       "      <th>50%</th>\n",
       "      <td>27.000000</td>\n",
       "      <td>0.000000</td>\n",
       "      <td>0.000000</td>\n",
       "      <td>0.000000</td>\n",
       "      <td>0.000000</td>\n",
       "      <td>0.000000</td>\n",
       "    </tr>\n",
       "    <tr>\n",
       "      <th>75%</th>\n",
       "      <td>38.000000</td>\n",
       "      <td>47.000000</td>\n",
       "      <td>76.000000</td>\n",
       "      <td>27.000000</td>\n",
       "      <td>59.000000</td>\n",
       "      <td>46.000000</td>\n",
       "    </tr>\n",
       "    <tr>\n",
       "      <th>max</th>\n",
       "      <td>79.000000</td>\n",
       "      <td>14327.000000</td>\n",
       "      <td>29813.000000</td>\n",
       "      <td>23492.000000</td>\n",
       "      <td>22408.000000</td>\n",
       "      <td>24133.000000</td>\n",
       "    </tr>\n",
       "  </tbody>\n",
       "</table>\n",
       "</div>"
      ],
      "text/plain": [
       "               Age   RoomService     FoodCourt  ShoppingMall           Spa  \\\n",
       "count  8514.000000   8512.000000   8510.000000   8485.000000   8510.000000   \n",
       "mean     28.827930    224.687617    458.077203    173.729169    311.138778   \n",
       "std      14.489021    666.717663   1611.489240    604.696458   1136.705535   \n",
       "min       0.000000      0.000000      0.000000      0.000000      0.000000   \n",
       "25%      19.000000      0.000000      0.000000      0.000000      0.000000   \n",
       "50%      27.000000      0.000000      0.000000      0.000000      0.000000   \n",
       "75%      38.000000     47.000000     76.000000     27.000000     59.000000   \n",
       "max      79.000000  14327.000000  29813.000000  23492.000000  22408.000000   \n",
       "\n",
       "             VRDeck  \n",
       "count   8505.000000  \n",
       "mean     304.854791  \n",
       "std     1145.717189  \n",
       "min        0.000000  \n",
       "25%        0.000000  \n",
       "50%        0.000000  \n",
       "75%       46.000000  \n",
       "max    24133.000000  "
      ]
     },
     "execution_count": 3,
     "metadata": {},
     "output_type": "execute_result"
    }
   ],
   "source": [
    "df.describe()"
   ]
  },
  {
   "cell_type": "code",
   "execution_count": 4,
   "id": "b369fba4",
   "metadata": {},
   "outputs": [
    {
     "name": "stdout",
     "output_type": "stream",
     "text": [
      "<class 'pandas.core.frame.DataFrame'>\n",
      "RangeIndex: 8693 entries, 0 to 8692\n",
      "Data columns (total 14 columns):\n",
      " #   Column        Non-Null Count  Dtype  \n",
      "---  ------        --------------  -----  \n",
      " 0   PassengerId   8693 non-null   object \n",
      " 1   HomePlanet    8492 non-null   object \n",
      " 2   CryoSleep     8476 non-null   object \n",
      " 3   Cabin         8494 non-null   object \n",
      " 4   Destination   8511 non-null   object \n",
      " 5   Age           8514 non-null   float64\n",
      " 6   VIP           8490 non-null   object \n",
      " 7   RoomService   8512 non-null   float64\n",
      " 8   FoodCourt     8510 non-null   float64\n",
      " 9   ShoppingMall  8485 non-null   float64\n",
      " 10  Spa           8510 non-null   float64\n",
      " 11  VRDeck        8505 non-null   float64\n",
      " 12  Name          8493 non-null   object \n",
      " 13  Transported   8693 non-null   bool   \n",
      "dtypes: bool(1), float64(6), object(7)\n",
      "memory usage: 891.5+ KB\n"
     ]
    }
   ],
   "source": [
    "df.info()"
   ]
  },
  {
   "cell_type": "code",
   "execution_count": 9,
   "id": "7ca9102d",
   "metadata": {},
   "outputs": [
    {
     "name": "stdout",
     "output_type": "stream",
     "text": [
      "<class 'pandas.core.frame.DataFrame'>\n",
      "RangeIndex: 8693 entries, 0 to 8692\n",
      "Data columns (total 12 columns):\n",
      " #   Column        Non-Null Count  Dtype  \n",
      "---  ------        --------------  -----  \n",
      " 0   HomePlanet    8492 non-null   object \n",
      " 1   CryoSleep     8476 non-null   object \n",
      " 2   Cabin         8494 non-null   object \n",
      " 3   Destination   8511 non-null   object \n",
      " 4   Age           8514 non-null   float64\n",
      " 5   VIP           8490 non-null   object \n",
      " 6   RoomService   8512 non-null   float64\n",
      " 7   FoodCourt     8510 non-null   float64\n",
      " 8   ShoppingMall  8485 non-null   float64\n",
      " 9   Spa           8510 non-null   float64\n",
      " 10  VRDeck        8505 non-null   float64\n",
      " 11  Transported   8693 non-null   bool   \n",
      "dtypes: bool(1), float64(6), object(5)\n",
      "memory usage: 755.7+ KB\n"
     ]
    }
   ],
   "source": [
    "df.drop('PassengerId', axis=1, inplace=True)\n",
    "df.drop('Name', axis=1, inplace=True)\n",
    "df.info()"
   ]
  },
  {
   "cell_type": "code",
   "execution_count": 6,
   "id": "7ae44897",
   "metadata": {},
   "outputs": [
    {
     "name": "stdout",
     "output_type": "stream",
     "text": [
      "null values:\n",
      "HomePlanet      201\n",
      "CryoSleep       217\n",
      "Cabin           199\n",
      "Destination     182\n",
      "Age             179\n",
      "VIP             203\n",
      "RoomService     181\n",
      "FoodCourt       183\n",
      "ShoppingMall    208\n",
      "Spa             183\n",
      "VRDeck          188\n",
      "Transported       0\n",
      "dtype: int64\n"
     ]
    }
   ],
   "source": [
    "print(\"null values:\")\n",
    "print(df.isnull().sum())"
   ]
  },
  {
   "cell_type": "code",
   "execution_count": 15,
   "id": "4bc416dd",
   "metadata": {},
   "outputs": [
    {
     "name": "stdout",
     "output_type": "stream",
     "text": [
      "HomePlanet      0\n",
      "CryoSleep       0\n",
      "Cabin           0\n",
      "Destination     0\n",
      "Age             0\n",
      "VIP             0\n",
      "RoomService     0\n",
      "FoodCourt       0\n",
      "ShoppingMall    0\n",
      "Spa             0\n",
      "VRDeck          0\n",
      "Transported     0\n",
      "dtype: int64\n"
     ]
    }
   ],
   "source": [
    "#handling missing values\n",
    "\n",
    "diss_att = [0,1,2,3,5,11]\n",
    "cont_att =[4,6,7,8,9,10]\n",
    "for col in df.columns[:11]:\n",
    "    if pd.api.types.is_numeric_dtype(df[col]):\n",
    "        df[col].fillna(df[col].mean(), inplace=True)\n",
    "    else:\n",
    "        df[col].fillna(df[col].mode()[0], inplace=True)\n",
    "\n",
    "\n",
    "print(df.isna().sum())"
   ]
  },
  {
   "cell_type": "code",
   "execution_count": 34,
   "id": "744950cf",
   "metadata": {},
   "outputs": [
    {
     "data": {
      "application/vnd.microsoft.datawrangler.viewer.v0+json": {
       "columns": [
        {
         "name": "index",
         "rawType": "int64",
         "type": "integer"
        },
        {
         "name": "HomePlanet",
         "rawType": "object",
         "type": "string"
        },
        {
         "name": "CryoSleep",
         "rawType": "bool",
         "type": "boolean"
        },
        {
         "name": "Cabin",
         "rawType": "object",
         "type": "string"
        },
        {
         "name": "Destination",
         "rawType": "object",
         "type": "string"
        },
        {
         "name": "Age",
         "rawType": "float64",
         "type": "float"
        },
        {
         "name": "VIP",
         "rawType": "bool",
         "type": "boolean"
        },
        {
         "name": "RoomService",
         "rawType": "float64",
         "type": "float"
        },
        {
         "name": "FoodCourt",
         "rawType": "float64",
         "type": "float"
        },
        {
         "name": "ShoppingMall",
         "rawType": "float64",
         "type": "float"
        },
        {
         "name": "Spa",
         "rawType": "float64",
         "type": "float"
        },
        {
         "name": "VRDeck",
         "rawType": "float64",
         "type": "float"
        },
        {
         "name": "Transported",
         "rawType": "bool",
         "type": "boolean"
        }
       ],
       "ref": "c33fc587-f36f-40b9-9ff4-7d4d7c498da6",
       "rows": [
        [
         "0",
         "Europa",
         "False",
         "B/0/P",
         "TRAPPIST-1e",
         "0.4936708860759494",
         "False",
         "0.0",
         "0.0",
         "0.0",
         "0.0",
         "0.0",
         "False"
        ],
        [
         "1",
         "Earth",
         "False",
         "F/0/S",
         "TRAPPIST-1e",
         "0.3037974683544304",
         "False",
         "0.007608012842884065",
         "0.0003018817294468856",
         "0.0010641920653839604",
         "0.02450017850767583",
         "0.0018232296026188207",
         "True"
        ],
        [
         "2",
         "Europa",
         "False",
         "A/0/S",
         "TRAPPIST-1e",
         "0.7341772151898734",
         "True",
         "0.0030013261673762824",
         "0.11994767383356254",
         "0.0",
         "0.2996697607997144",
         "0.002030414784734596",
         "False"
        ],
        [
         "3",
         "Europa",
         "False",
         "A/0/S",
         "TRAPPIST-1e",
         "0.4177215189873418",
         "False",
         "0.0",
         "0.04303491765337269",
         "0.015792610250297975",
         "0.14856301320956802",
         "0.007997348029668918",
         "False"
        ],
        [
         "4",
         "Earth",
         "False",
         "F/1/S",
         "TRAPPIST-1e",
         "0.20253164556962025",
         "False",
         "0.021148879737558458",
         "0.0023479690068091102",
         "0.006427720074919122",
         "0.025214209210996073",
         "8.287407284631003e-05",
         "True"
        ],
        [
         "5",
         "Earth",
         "False",
         "F/0/P",
         "PSO J318.5-22",
         "0.5569620253164557",
         "False",
         "0.0",
         "0.01620098614698286",
         "0.0",
         "0.012986433416636915",
         "0.0",
         "True"
        ],
        [
         "6",
         "Earth",
         "False",
         "F/2/S",
         "TRAPPIST-1e",
         "0.3291139240506329",
         "False",
         "0.0029315278844140435",
         "0.05162177573541744",
         "0.00012770304784607525",
         "0.0",
         "0.0",
         "True"
        ],
        [
         "7",
         "Earth",
         "True",
         "G/0/S",
         "TRAPPIST-1e",
         "0.35443037974683544",
         "False",
         "0.0",
         "0.0",
         "0.0",
         "0.0",
         "0.012632279090839752",
         "True"
        ],
        [
         "8",
         "Earth",
         "False",
         "F/3/S",
         "TRAPPIST-1e",
         "0.4430379746835443",
         "False",
         "0.0",
         "0.02633079529064502",
         "0.0007236506044610931",
         "0.009639414494823277",
         "0.0",
         "True"
        ],
        [
         "9",
         "Europa",
         "True",
         "B/1/P",
         "55 Cancri e",
         "0.17721518987341772",
         "False",
         "0.0",
         "0.0",
         "0.0",
         "0.0",
         "0.0",
         "True"
        ],
        [
         "10",
         "Europa",
         "True",
         "B/1/P",
         "TRAPPIST-1e",
         "0.43037974683544306",
         "False",
         "0.0",
         "0.0",
         "0.00739524813221437",
         "0.0",
         "0.0",
         "True"
        ],
        [
         "11",
         "Europa",
         "False",
         "B/1/P",
         "55 Cancri e",
         "0.569620253164557",
         "False",
         "0.002722133035527326",
         "0.24469191292389225",
         "0.02507236506044611",
         "0.004908961085326669",
         "0.005138192516471222",
         "True"
        ],
        [
         "12",
         "Mars",
         "False",
         "F/1/P",
         "TRAPPIST-1e",
         "0.4050632911392405",
         "False",
         "0.005095274656243457",
         "0.0",
         "0.0478035075770475",
         "0.0",
         "0.004682385115816517",
         "True"
        ],
        [
         "13",
         "Earth",
         "False",
         "G/1/S",
         "TRAPPIST-1e",
         "0.6075949367088608",
         "False",
         "0.05018496544984993",
         "3.3542414382987286e-05",
         "0.0027668993699982974",
         "0.0",
         "0.0009944888741557204",
         "False"
        ],
        [
         "14",
         "Earth",
         "False",
         "F/2/P",
         "TRAPPIST-1e",
         "0.35443037974683544",
         "False",
         "0.000558386263697913",
         "0.03267031160902962",
         "0.000510812191384301",
         "8.925383791503035e-05",
         "0.0002900592549620851",
         "True"
        ],
        [
         "15",
         "Earth",
         "False",
         "G/734/S",
         "TRAPPIST-1e",
         "0.3924050632911392",
         "False",
         "0.002233545054791652",
         "0.0",
         "0.03728928997105398",
         "0.0",
         "0.0",
         "False"
        ],
        [
         "16",
         "Mars",
         "False",
         "F/3/P",
         "55 Cancri e",
         "0.34177215189873417",
         "False",
         "0.08976059188943952",
         "0.004092174554724449",
         "0.00739524813221437",
         "0.0",
         "0.0",
         "False"
        ],
        [
         "17",
         "Earth",
         "False",
         "F/4/P",
         "55 Cancri e",
         "0.3037974683544304",
         "False",
         "0.0",
         "3.3542414382987286e-05",
         "0.0",
         "0.0",
         "0.026395392201549746",
         "False"
        ],
        [
         "18",
         "Mars",
         "True",
         "F/5/P",
         "TRAPPIST-1e",
         "0.569620253164557",
         "False",
         "0.0",
         "0.0",
         "0.0",
         "0.0",
         "0.0",
         "True"
        ],
        [
         "19",
         "Earth",
         "False",
         "G/0/P",
         "TRAPPIST-1e",
         "0.0",
         "False",
         "0.0",
         "0.0",
         "0.0",
         "0.0",
         "0.0",
         "True"
        ],
        [
         "20",
         "Earth",
         "False",
         "F/6/P",
         "55 Cancri e",
         "0.17721518987341772",
         "False",
         "0.02875689258044252",
         "0.0",
         "4.256768261535842e-05",
         "0.0",
         "0.028135747731322255",
         "False"
        ],
        [
         "21",
         "Earth",
         "True",
         "E/0/S",
         "TRAPPIST-1e",
         "0.012658227848101266",
         "False",
         "0.0",
         "0.0",
         "0.0",
         "0.0",
         "0.0",
         "False"
        ],
        [
         "22",
         "Earth",
         "True",
         "E/0/S",
         "55 Cancri e",
         "0.620253164556962",
         "False",
         "0.0",
         "0.0",
         "0.0",
         "0.0",
         "0.0",
         "False"
        ],
        [
         "23",
         "Earth",
         "True",
         "E/0/S",
         "55 Cancri e",
         "0.3670886075949367",
         "False",
         "0.0",
         "0.0",
         "0.00739524813221437",
         "0.0",
         "0.0",
         "False"
        ],
        [
         "24",
         "Earth",
         "False",
         "E/0/S",
         "TRAPPIST-1e",
         "0.12658227848101267",
         "False",
         "0.0",
         "0.0",
         "0.0",
         "0.0",
         "0.0",
         "True"
        ],
        [
         "25",
         "Earth",
         "True",
         "E/0/S",
         "PSO J318.5-22",
         "0.012658227848101266",
         "False",
         "0.015682809903064355",
         "0.0",
         "0.0",
         "0.0",
         "0.0",
         "False"
        ],
        [
         "26",
         "Earth",
         "False",
         "E/0/S",
         "TRAPPIST-1e",
         "0.08860759493670886",
         "False",
         "0.0",
         "0.0",
         "0.0",
         "0.0",
         "0.0",
         "False"
        ],
        [
         "27",
         "Mars",
         "False",
         "D/0/P",
         "TRAPPIST-1e",
         "0.26582278481012656",
         "False",
         "0.06840231730299434",
         "6.708482876597457e-05",
         "0.002937170100459731",
         "0.0",
         "0.0",
         "False"
        ],
        [
         "28",
         "Europa",
         "True",
         "C/2/S",
         "TRAPPIST-1e",
         "0.7848101265822784",
         "False",
         "0.0",
         "0.0",
         "0.00739524813221437",
         "0.0",
         "0.0",
         "True"
        ],
        [
         "29",
         "Earth",
         "False",
         "F/6/S",
         "TRAPPIST-1e",
         "0.189873417721519",
         "False",
         "0.0",
         "0.00754704323617214",
         "0.0",
         "0.04453766511960014",
         "0.0",
         "False"
        ],
        [
         "30",
         "Europa",
         "False",
         "C/0/P",
         "55 Cancri e",
         "0.43037974683544306",
         "False",
         "0.001535562225169261",
         "0.2037030825478818",
         "0.0",
         "0.06417350946090682",
         "0.013591347946794846",
         "False"
        ],
        [
         "31",
         "Mars",
         "False",
         "F/8/P",
         "TRAPPIST-1e",
         "0.5443037974683544",
         "False",
         "0.07852306833251901",
         "0.0",
         "0.005789204835688745",
         "0.0021420921099607284",
         "0.0",
         "False"
        ],
        [
         "32",
         "Earth",
         "False",
         "G/4/S",
         "TRAPPIST-1e",
         "0.4050632911392405",
         "False",
         "0.0",
         "0.028511052225539193",
         "0.003447982291844032",
         "0.01950196358443413",
         "0.018770977499689222",
         "False"
        ],
        [
         "33",
         "Mars",
         "False",
         "F/9/P",
         "TRAPPIST-1e",
         "0.5949367088607594",
         "False",
         "0.014936832553919173",
         "0.0",
         "0.06006300017027073",
         "0.0",
         "0.05092611776405751",
         "True"
        ],
        [
         "34",
         "Mars",
         "False",
         "F/9/P",
         "TRAPPIST-1e",
         "0.02531645569620253",
         "False",
         "0.0",
         "0.0",
         "0.0",
         "0.0",
         "0.0",
         "True"
        ],
        [
         "35",
         "Mars",
         "False",
         "F/9/P",
         "TRAPPIST-1e",
         "0.25316455696202533",
         "False",
         "0.015682809903064355",
         "0.0",
         "0.07449344457687723",
         "0.04418064976794002",
         "0.0",
         "True"
        ],
        [
         "36",
         "Europa",
         "True",
         "D/1/S",
         "55 Cancri e",
         "0.35443037974683544",
         "False",
         "0.0",
         "0.0",
         "0.0",
         "0.0",
         "0.0",
         "True"
        ],
        [
         "37",
         "Mars",
         "False",
         "D/1/P",
         "55 Cancri e",
         "0.2911392405063291",
         "False",
         "0.054721853842395474",
         "0.032334887465199746",
         "0.0",
         "0.042440199928596926",
         "0.0",
         "False"
        ],
        [
         "38",
         "Earth",
         "False",
         "F/8/S",
         "55 Cancri e",
         "0.189873417721519",
         "False",
         "0.0",
         "0.016502867876429746",
         "0.002043248765537204",
         "0.0008925383791503035",
         "0.01661625160568516",
         "False"
        ],
        [
         "39",
         "Earth",
         "False",
         "F/10/S",
         "55 Cancri e",
         "0.25316455696202533",
         "False",
         "0.03866824876108048",
         "0.006540770804682521",
         "0.0",
         "0.11629775080328454",
         "0.0",
         "False"
        ],
        [
         "40",
         "Earth",
         "True",
         "G/1/P",
         "55 Cancri e",
         "0.379746835443038",
         "False",
         "0.0",
         "0.0",
         "0.00739524813221437",
         "0.0",
         "0.0",
         "False"
        ],
        [
         "41",
         "Earth",
         "True",
         "G/2/P",
         "TRAPPIST-1e",
         "0.21518987341772153",
         "False",
         "0.0",
         "0.0",
         "0.0",
         "0.0",
         "0.0",
         "True"
        ],
        [
         "42",
         "Europa",
         "False",
         "B/3/P",
         "TRAPPIST-1e",
         "0.569620253164557",
         "False",
         "0.0",
         "0.005500955958809915",
         "0.0019155457176911288",
         "0.1120581935023206",
         "0.03542866614179754",
         "False"
        ],
        [
         "43",
         "Earth",
         "True",
         "G/3/P",
         "TRAPPIST-1e",
         "0.6962025316455697",
         "False",
         "0.0",
         "0.0",
         "0.0",
         "0.0",
         "0.0",
         "False"
        ],
        [
         "44",
         "Earth",
         "True",
         "G/3/P",
         "55 Cancri e",
         "0.05063291139240506",
         "False",
         "0.0",
         "0.0",
         "0.0",
         "0.0",
         "0.0",
         "True"
        ],
        [
         "45",
         "Earth",
         "True",
         "G/3/P",
         "PSO J318.5-22",
         "0.26582278481012656",
         "False",
         "0.0",
         "0.0",
         "0.0",
         "0.0",
         "0.0",
         "True"
        ],
        [
         "46",
         "Mars",
         "False",
         "F/10/P",
         "TRAPPIST-1e",
         "0.26582278481012656",
         "False",
         "0.06770433447337196",
         "0.0",
         "0.007662182870764515",
         "0.0",
         "0.002651970331081921",
         "False"
        ],
        [
         "47",
         "Mars",
         "True",
         "F/10/P",
         "TRAPPIST-1e",
         "0.24050632911392406",
         "False",
         "0.0",
         "0.0",
         "0.0",
         "0.0",
         "0.0",
         "True"
        ],
        [
         "48",
         "Earth",
         "False",
         "E/1/S",
         "55 Cancri e",
         "0.4430379746835443",
         "False",
         "0.05514064354016891",
         "0.0",
         "0.0",
         "0.01388516502625594",
         "0.0",
         "False"
        ],
        [
         "49",
         "Earth",
         "False",
         "E/2/S",
         "TRAPPIST-1e",
         "0.7088607594936709",
         "False",
         "0.0",
         "0.0037567504108945763",
         "0.0",
         "0.061540521242413423",
         "0.005262503625740687",
         "False"
        ]
       ],
       "shape": {
        "columns": 12,
        "rows": 8693
       }
      },
      "text/html": [
       "<div>\n",
       "<style scoped>\n",
       "    .dataframe tbody tr th:only-of-type {\n",
       "        vertical-align: middle;\n",
       "    }\n",
       "\n",
       "    .dataframe tbody tr th {\n",
       "        vertical-align: top;\n",
       "    }\n",
       "\n",
       "    .dataframe thead th {\n",
       "        text-align: right;\n",
       "    }\n",
       "</style>\n",
       "<table border=\"1\" class=\"dataframe\">\n",
       "  <thead>\n",
       "    <tr style=\"text-align: right;\">\n",
       "      <th></th>\n",
       "      <th>HomePlanet</th>\n",
       "      <th>CryoSleep</th>\n",
       "      <th>Cabin</th>\n",
       "      <th>Destination</th>\n",
       "      <th>Age</th>\n",
       "      <th>VIP</th>\n",
       "      <th>RoomService</th>\n",
       "      <th>FoodCourt</th>\n",
       "      <th>ShoppingMall</th>\n",
       "      <th>Spa</th>\n",
       "      <th>VRDeck</th>\n",
       "      <th>Transported</th>\n",
       "    </tr>\n",
       "  </thead>\n",
       "  <tbody>\n",
       "    <tr>\n",
       "      <th>0</th>\n",
       "      <td>Europa</td>\n",
       "      <td>False</td>\n",
       "      <td>B/0/P</td>\n",
       "      <td>TRAPPIST-1e</td>\n",
       "      <td>0.493671</td>\n",
       "      <td>False</td>\n",
       "      <td>0.000000</td>\n",
       "      <td>0.000000</td>\n",
       "      <td>0.000000</td>\n",
       "      <td>0.000000</td>\n",
       "      <td>0.000000</td>\n",
       "      <td>False</td>\n",
       "    </tr>\n",
       "    <tr>\n",
       "      <th>1</th>\n",
       "      <td>Earth</td>\n",
       "      <td>False</td>\n",
       "      <td>F/0/S</td>\n",
       "      <td>TRAPPIST-1e</td>\n",
       "      <td>0.303797</td>\n",
       "      <td>False</td>\n",
       "      <td>0.007608</td>\n",
       "      <td>0.000302</td>\n",
       "      <td>0.001064</td>\n",
       "      <td>0.024500</td>\n",
       "      <td>0.001823</td>\n",
       "      <td>True</td>\n",
       "    </tr>\n",
       "    <tr>\n",
       "      <th>2</th>\n",
       "      <td>Europa</td>\n",
       "      <td>False</td>\n",
       "      <td>A/0/S</td>\n",
       "      <td>TRAPPIST-1e</td>\n",
       "      <td>0.734177</td>\n",
       "      <td>True</td>\n",
       "      <td>0.003001</td>\n",
       "      <td>0.119948</td>\n",
       "      <td>0.000000</td>\n",
       "      <td>0.299670</td>\n",
       "      <td>0.002030</td>\n",
       "      <td>False</td>\n",
       "    </tr>\n",
       "    <tr>\n",
       "      <th>3</th>\n",
       "      <td>Europa</td>\n",
       "      <td>False</td>\n",
       "      <td>A/0/S</td>\n",
       "      <td>TRAPPIST-1e</td>\n",
       "      <td>0.417722</td>\n",
       "      <td>False</td>\n",
       "      <td>0.000000</td>\n",
       "      <td>0.043035</td>\n",
       "      <td>0.015793</td>\n",
       "      <td>0.148563</td>\n",
       "      <td>0.007997</td>\n",
       "      <td>False</td>\n",
       "    </tr>\n",
       "    <tr>\n",
       "      <th>4</th>\n",
       "      <td>Earth</td>\n",
       "      <td>False</td>\n",
       "      <td>F/1/S</td>\n",
       "      <td>TRAPPIST-1e</td>\n",
       "      <td>0.202532</td>\n",
       "      <td>False</td>\n",
       "      <td>0.021149</td>\n",
       "      <td>0.002348</td>\n",
       "      <td>0.006428</td>\n",
       "      <td>0.025214</td>\n",
       "      <td>0.000083</td>\n",
       "      <td>True</td>\n",
       "    </tr>\n",
       "    <tr>\n",
       "      <th>...</th>\n",
       "      <td>...</td>\n",
       "      <td>...</td>\n",
       "      <td>...</td>\n",
       "      <td>...</td>\n",
       "      <td>...</td>\n",
       "      <td>...</td>\n",
       "      <td>...</td>\n",
       "      <td>...</td>\n",
       "      <td>...</td>\n",
       "      <td>...</td>\n",
       "      <td>...</td>\n",
       "      <td>...</td>\n",
       "    </tr>\n",
       "    <tr>\n",
       "      <th>8688</th>\n",
       "      <td>Europa</td>\n",
       "      <td>False</td>\n",
       "      <td>A/98/P</td>\n",
       "      <td>55 Cancri e</td>\n",
       "      <td>0.518987</td>\n",
       "      <td>True</td>\n",
       "      <td>0.000000</td>\n",
       "      <td>0.228726</td>\n",
       "      <td>0.000000</td>\n",
       "      <td>0.073322</td>\n",
       "      <td>0.003066</td>\n",
       "      <td>False</td>\n",
       "    </tr>\n",
       "    <tr>\n",
       "      <th>8689</th>\n",
       "      <td>Earth</td>\n",
       "      <td>True</td>\n",
       "      <td>G/1499/S</td>\n",
       "      <td>PSO J318.5-22</td>\n",
       "      <td>0.227848</td>\n",
       "      <td>False</td>\n",
       "      <td>0.000000</td>\n",
       "      <td>0.000000</td>\n",
       "      <td>0.000000</td>\n",
       "      <td>0.000000</td>\n",
       "      <td>0.000000</td>\n",
       "      <td>False</td>\n",
       "    </tr>\n",
       "    <tr>\n",
       "      <th>8690</th>\n",
       "      <td>Earth</td>\n",
       "      <td>False</td>\n",
       "      <td>G/1500/S</td>\n",
       "      <td>TRAPPIST-1e</td>\n",
       "      <td>0.329114</td>\n",
       "      <td>False</td>\n",
       "      <td>0.000000</td>\n",
       "      <td>0.000000</td>\n",
       "      <td>0.079687</td>\n",
       "      <td>0.000045</td>\n",
       "      <td>0.000000</td>\n",
       "      <td>True</td>\n",
       "    </tr>\n",
       "    <tr>\n",
       "      <th>8691</th>\n",
       "      <td>Europa</td>\n",
       "      <td>False</td>\n",
       "      <td>E/608/S</td>\n",
       "      <td>55 Cancri e</td>\n",
       "      <td>0.405063</td>\n",
       "      <td>False</td>\n",
       "      <td>0.000000</td>\n",
       "      <td>0.035186</td>\n",
       "      <td>0.000000</td>\n",
       "      <td>0.015753</td>\n",
       "      <td>0.134049</td>\n",
       "      <td>False</td>\n",
       "    </tr>\n",
       "    <tr>\n",
       "      <th>8692</th>\n",
       "      <td>Europa</td>\n",
       "      <td>False</td>\n",
       "      <td>E/608/S</td>\n",
       "      <td>TRAPPIST-1e</td>\n",
       "      <td>0.556962</td>\n",
       "      <td>False</td>\n",
       "      <td>0.008795</td>\n",
       "      <td>0.157247</td>\n",
       "      <td>0.000000</td>\n",
       "      <td>0.000000</td>\n",
       "      <td>0.000497</td>\n",
       "      <td>True</td>\n",
       "    </tr>\n",
       "  </tbody>\n",
       "</table>\n",
       "<p>8693 rows × 12 columns</p>\n",
       "</div>"
      ],
      "text/plain": [
       "     HomePlanet  CryoSleep     Cabin    Destination       Age    VIP  \\\n",
       "0        Europa      False     B/0/P    TRAPPIST-1e  0.493671  False   \n",
       "1         Earth      False     F/0/S    TRAPPIST-1e  0.303797  False   \n",
       "2        Europa      False     A/0/S    TRAPPIST-1e  0.734177   True   \n",
       "3        Europa      False     A/0/S    TRAPPIST-1e  0.417722  False   \n",
       "4         Earth      False     F/1/S    TRAPPIST-1e  0.202532  False   \n",
       "...         ...        ...       ...            ...       ...    ...   \n",
       "8688     Europa      False    A/98/P    55 Cancri e  0.518987   True   \n",
       "8689      Earth       True  G/1499/S  PSO J318.5-22  0.227848  False   \n",
       "8690      Earth      False  G/1500/S    TRAPPIST-1e  0.329114  False   \n",
       "8691     Europa      False   E/608/S    55 Cancri e  0.405063  False   \n",
       "8692     Europa      False   E/608/S    TRAPPIST-1e  0.556962  False   \n",
       "\n",
       "      RoomService  FoodCourt  ShoppingMall       Spa    VRDeck  Transported  \n",
       "0        0.000000   0.000000      0.000000  0.000000  0.000000        False  \n",
       "1        0.007608   0.000302      0.001064  0.024500  0.001823         True  \n",
       "2        0.003001   0.119948      0.000000  0.299670  0.002030        False  \n",
       "3        0.000000   0.043035      0.015793  0.148563  0.007997        False  \n",
       "4        0.021149   0.002348      0.006428  0.025214  0.000083         True  \n",
       "...           ...        ...           ...       ...       ...          ...  \n",
       "8688     0.000000   0.228726      0.000000  0.073322  0.003066        False  \n",
       "8689     0.000000   0.000000      0.000000  0.000000  0.000000        False  \n",
       "8690     0.000000   0.000000      0.079687  0.000045  0.000000         True  \n",
       "8691     0.000000   0.035186      0.000000  0.015753  0.134049        False  \n",
       "8692     0.008795   0.157247      0.000000  0.000000  0.000497         True  \n",
       "\n",
       "[8693 rows x 12 columns]"
      ]
     },
     "execution_count": 34,
     "metadata": {},
     "output_type": "execute_result"
    }
   ],
   "source": [
    "#normalizing the data\n",
    "def normalize(x):\n",
    "    return (x - x.min()) / (x.max() - x.min())\n",
    "\n",
    "# Apply normalization only to numeric columns\n",
    "# Use iloc to access columns by integer position\n",
    "for index in cont_att:\n",
    "    df.iloc[:, index] = normalize(df.iloc[:, index])\n",
    "\n",
    "#normalizing the data\n",
    "df"
   ]
  },
  {
   "cell_type": "code",
   "execution_count": 35,
   "id": "abc59f51",
   "metadata": {},
   "outputs": [
    {
     "data": {
      "image/png": "[encoded data removed]",
      "text/plain": [
       "<Figure size 1440x1080 with 6 Axes>"
      ]
     },
     "metadata": {
      "needs_background": "light"
     },
     "output_type": "display_data"
    }
   ],
   "source": [
    "df.hist(bins=50, figsize=(20,15))\n",
    "plt.show()"
   ]
  },
  {
   "cell_type": "code",
   "execution_count": null,
   "id": "56c96356",
   "metadata": {},
   "outputs": [
    {
     "data": {
      "image/png": "[encoded data removed]",
      "text/plain": [
       "<Figure size 720x432 with 1 Axes>"
      ]
     },
     "metadata": {
      "needs_background": "light"
     },
     "output_type": "display_data"
    },
    {
     "data": {
      "image/png": "[encoded data removed]",
      "text/plain": [
       "<Figure size 720x432 with 1 Axes>"
      ]
     },
     "metadata": {
      "needs_background": "light"
     },
     "output_type": "display_data"
    },
    {
     "data": {
      "image/png": "[encoded data removed]",
      "text/plain": [
       "<Figure size 720x432 with 1 Axes>"
      ]
     },
     "metadata": {
      "needs_background": "light"
     },
     "output_type": "display_data"
    },
    {
     "data": {
      "image/png": "[encoded data removed]",
      "text/plain": [
       "<Figure size 720x432 with 1 Axes>"
      ]
     },
     "metadata": {
      "needs_background": "light"
     },
     "output_type": "display_data"
    },
    {
     "data": {
      "image/png": "[encoded data removed]",
      "text/plain": [
       "<Figure size 720x432 with 1 Axes>"
      ]
     },
     "metadata": {
      "needs_background": "light"
     },
     "output_type": "display_data"
    },
    {
     "data": {
      "image/png": "[encoded data removed]",
      "text/plain": [
       "<Figure size 720x432 with 1 Axes>"
      ]
     },
     "metadata": {
      "needs_background": "light"
     },
     "output_type": "display_data"
    }
   ],
   "source": [
    "#a distributiom for comt columns\n",
    "\n",
    "\n",
    "for i in cont_att:\n",
    "    col = df.columns[i]\n",
    "    plt.figure(figsize=(10, 6))\n",
    "    sns.histplot(df[col], kde=True, bins=50)\n",
    "    plt.title('Distribution of '+ col.title())\n",
    "    plt.xlabel(col.title())\n",
    "    plt.ylabel('Frequency')\n",
    "    plt.show()"
   ]
  },
  {
   "cell_type": "code",
   "execution_count": 31,
   "id": "b20e06b0",
   "metadata": {},
   "outputs": [
    {
     "data": {
      "image/png": "[encoded data removed]",
      "text/plain": [
       "<Figure size 720x432 with 1 Axes>"
      ]
     },
     "metadata": {
      "needs_background": "light"
     },
     "output_type": "display_data"
    },
    {
     "data": {
      "image/png": "[encoded data removed]",
      "text/plain": [
       "<Figure size 720x432 with 1 Axes>"
      ]
     },
     "metadata": {
      "needs_background": "light"
     },
     "output_type": "display_data"
    },
    {
     "data": {
      "image/png": "[encoded data removed]",
      "text/plain": [
       "<Figure size 720x432 with 1 Axes>"
      ]
     },
     "metadata": {
      "needs_background": "light"
     },
     "output_type": "display_data"
    },
    {
     "data": {
      "image/png": "[encoded data removed]",
      "text/plain": [
       "<Figure size 720x432 with 1 Axes>"
      ]
     },
     "metadata": {
      "needs_background": "light"
     },
     "output_type": "display_data"
    },
    {
     "data": {
      "image/png": "[encoded data removed]",
      "text/plain": [
       "<Figure size 720x432 with 1 Axes>"
      ]
     },
     "metadata": {
      "needs_background": "light"
     },
     "output_type": "display_data"
    },
    {
     "data": {
      "image/png": "[encoded data removed]",
      "text/plain": [
       "<Figure size 720x432 with 1 Axes>"
      ]
     },
     "metadata": {
      "needs_background": "light"
     },
     "output_type": "display_data"
    }
   ],
   "source": [
    "for index in diss_att:\n",
    "    col = df.columns[index]\n",
    "    plt.figure(figsize=(10, 6))\n",
    "    sns.countplot(data=df, x=col)\n",
    "    plt.title(f'Count of {col.title()}')   \n",
    "    plt.xlabel(col.title())\n",
    "    plt.ylabel('Count')\n",
    "    plt.show()"
   ]
  },
  {
   "cell_type": "code",
   "execution_count": 19,
   "id": "db3717da",
   "metadata": {},
   "outputs": [
    {
     "data": {
      "image/png": "[encoded data removed]",
      "text/plain": [
       "<Figure size 864x576 with 2 Axes>"
      ]
     },
     "metadata": {
      "needs_background": "light"
     },
     "output_type": "display_data"
    }
   ],
   "source": [
    "plt.figure(figsize=(12, 8))\n",
    "correlation_matrix = df.corr(numeric_only=True)\n",
    "sns.heatmap(correlation_matrix, annot=True, fmt=\".2f\")\n",
    "plt.title('Correlation Matrix of Numerical Features')\n",
    "plt.show()"
   ]
  },
  {
   "cell_type": "code",
   "execution_count": null,
   "id": "64216707",
   "metadata": {},
   "outputs": [],
   "source": []
  }
 ],
 "metadata": {
  "kernelspec": {
   "display_name": "base",
   "language": "python",
   "name": "python3"
  },
  "language_info": {
   "codemirror_mode": {
    "name": "ipython",
    "version": 3
   },
   "file_extension": ".py",
   "mimetype": "text/x-python",
   "name": "python",
   "nbconvert_exporter": "python",
   "pygments_lexer": "ipython3",
   "version": "3.8.8"
  }
 },
 "nbformat": 4,
 "nbformat_minor": 5
}
